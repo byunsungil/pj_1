{
 "cells": [
  {
   "cell_type": "code",
   "execution_count": 1,
   "id": "6a230e17-cb2a-4334-8b20-a5968e82da43",
   "metadata": {},
   "outputs": [
    {
     "name": "stdout",
     "output_type": "stream",
     "text": [
      "✅ CSV → MySQL 저장 완료!\n"
     ]
    }
   ],
   "source": [
    "import pandas as pd\n",
    "from sqlalchemy import create_engine\n",
    "\n",
    "# CSV 파일 경로\n",
    "csv_file = \"comments.csv\"  # 예: 트위터 댓글 CSV\n",
    "\n",
    "# CSV 불러오기\n",
    "df = pd.read_csv(csv_file)\n",
    "\n",
    "# MySQL 접속 정보\n",
    "db_user = \"runnnn\"\n",
    "db_password = \"1111\"\n",
    "db_host = \"localhost\"\n",
    "db_port = \"3306\"\n",
    "db_name = \"youtube\"       # ✅ 저장할 데이터베이스 이름\n",
    "table_name = \"youtube\" # ✅ 저장할 테이블 이름\n",
    "\n",
    "# SQLAlchemy 엔진 생성\n",
    "engine = create_engine(f\"mysql+pymysql://{db_user}:{db_password}@{db_host}:{db_port}/{db_name}\")\n",
    "\n",
    "# 테이블로 저장 (if_exists: 'replace' = 덮어쓰기, 'append' = 추가)\n",
    "df.to_sql(name=table_name, con=engine, if_exists=\"replace\", index=False)\n",
    "\n",
    "print(\"✅ CSV → MySQL 저장 완료!\")\n"
   ]
  }
 ],
 "metadata": {
  "kernelspec": {
   "display_name": "Python 3 (ipykernel)",
   "language": "python",
   "name": "python3"
  },
  "language_info": {
   "codemirror_mode": {
    "name": "ipython",
    "version": 3
   },
   "file_extension": ".py",
   "mimetype": "text/x-python",
   "name": "python",
   "nbconvert_exporter": "python",
   "pygments_lexer": "ipython3",
   "version": "3.12.7"
  }
 },
 "nbformat": 4,
 "nbformat_minor": 5
}
