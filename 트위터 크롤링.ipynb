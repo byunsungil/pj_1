{
 "cells": [
  {
   "cell_type": "code",
   "execution_count": 1,
   "id": "e5257a9b-d80b-4069-9d93-e882b36477b0",
   "metadata": {
    "scrolled": true
   },
   "outputs": [
    {
     "name": "stdout",
     "output_type": "stream",
     "text": [
      "Requirement already satisfied: selenium in c:\\users\\erety\\anaconda3\\lib\\site-packages (4.30.0)Note: you may need to restart the kernel to use updated packages.\n",
      "\n",
      "Requirement already satisfied: pandas in c:\\users\\erety\\anaconda3\\lib\\site-packages (2.2.3)\n",
      "Collecting PyPDF2\n",
      "  Downloading pypdf2-3.0.1-py3-none-any.whl.metadata (6.8 kB)\n",
      "Requirement already satisfied: beautifulsoup4 in c:\\users\\erety\\anaconda3\\lib\\site-packages (4.12.3)\n",
      "Requirement already satisfied: urllib3<3,>=1.26 in c:\\users\\erety\\anaconda3\\lib\\site-packages (from urllib3[socks]<3,>=1.26->selenium) (2.2.3)\n",
      "Requirement already satisfied: trio~=0.17 in c:\\users\\erety\\anaconda3\\lib\\site-packages (from selenium) (0.29.0)\n",
      "Requirement already satisfied: trio-websocket~=0.9 in c:\\users\\erety\\anaconda3\\lib\\site-packages (from selenium) (0.12.2)\n",
      "Requirement already satisfied: certifi>=2021.10.8 in c:\\users\\erety\\anaconda3\\lib\\site-packages (from selenium) (2025.1.31)\n",
      "Requirement already satisfied: typing_extensions~=4.9 in c:\\users\\erety\\anaconda3\\lib\\site-packages (from selenium) (4.11.0)\n",
      "Requirement already satisfied: websocket-client~=1.8 in c:\\users\\erety\\anaconda3\\lib\\site-packages (from selenium) (1.8.0)\n",
      "Requirement already satisfied: numpy>=1.26.0 in c:\\users\\erety\\anaconda3\\lib\\site-packages (from pandas) (1.26.4)\n",
      "Requirement already satisfied: python-dateutil>=2.8.2 in c:\\users\\erety\\anaconda3\\lib\\site-packages (from pandas) (2.9.0.post0)\n",
      "Requirement already satisfied: pytz>=2020.1 in c:\\users\\erety\\anaconda3\\lib\\site-packages (from pandas) (2024.1)\n",
      "Requirement already satisfied: tzdata>=2022.7 in c:\\users\\erety\\anaconda3\\lib\\site-packages (from pandas) (2023.3)\n",
      "Requirement already satisfied: soupsieve>1.2 in c:\\users\\erety\\anaconda3\\lib\\site-packages (from beautifulsoup4) (2.5)\n",
      "Requirement already satisfied: six>=1.5 in c:\\users\\erety\\anaconda3\\lib\\site-packages (from python-dateutil>=2.8.2->pandas) (1.16.0)\n",
      "Requirement already satisfied: attrs>=23.2.0 in c:\\users\\erety\\anaconda3\\lib\\site-packages (from trio~=0.17->selenium) (25.3.0)\n",
      "Requirement already satisfied: sortedcontainers in c:\\users\\erety\\anaconda3\\lib\\site-packages (from trio~=0.17->selenium) (2.4.0)\n",
      "Requirement already satisfied: idna in c:\\users\\erety\\anaconda3\\lib\\site-packages (from trio~=0.17->selenium) (3.7)\n",
      "Requirement already satisfied: outcome in c:\\users\\erety\\anaconda3\\lib\\site-packages (from trio~=0.17->selenium) (1.3.0.post0)\n",
      "Requirement already satisfied: sniffio>=1.3.0 in c:\\users\\erety\\anaconda3\\lib\\site-packages (from trio~=0.17->selenium) (1.3.0)\n",
      "Requirement already satisfied: cffi>=1.14 in c:\\users\\erety\\anaconda3\\lib\\site-packages (from trio~=0.17->selenium) (1.17.1)\n",
      "Requirement already satisfied: wsproto>=0.14 in c:\\users\\erety\\anaconda3\\lib\\site-packages (from trio-websocket~=0.9->selenium) (1.2.0)\n",
      "Requirement already satisfied: pysocks!=1.5.7,<2.0,>=1.5.6 in c:\\users\\erety\\anaconda3\\lib\\site-packages (from urllib3[socks]<3,>=1.26->selenium) (1.7.1)\n",
      "Requirement already satisfied: pycparser in c:\\users\\erety\\anaconda3\\lib\\site-packages (from cffi>=1.14->trio~=0.17->selenium) (2.21)\n",
      "Requirement already satisfied: h11<1,>=0.9.0 in c:\\users\\erety\\anaconda3\\lib\\site-packages (from wsproto>=0.14->trio-websocket~=0.9->selenium) (0.14.0)\n",
      "Downloading pypdf2-3.0.1-py3-none-any.whl (232 kB)\n",
      "Installing collected packages: PyPDF2\n",
      "Successfully installed PyPDF2-3.0.1\n"
     ]
    }
   ],
   "source": [
    "pip install selenium pandas PyPDF2 beautifulsoup4"
   ]
  },
  {
   "cell_type": "code",
   "execution_count": 2,
   "id": "a23e8f29-08a1-4694-ba94-73229adba71b",
   "metadata": {},
   "outputs": [
    {
     "name": "stdout",
     "output_type": "stream",
     "text": [
      "Collecting snscrape\n",
      "  Downloading snscrape-0.7.0.20230622-py3-none-any.whl.metadata (4.9 kB)\n",
      "Requirement already satisfied: requests[socks] in c:\\users\\erety\\anaconda3\\lib\\site-packages (from snscrape) (2.32.3)\n",
      "Requirement already satisfied: lxml in c:\\users\\erety\\anaconda3\\lib\\site-packages (from snscrape) (5.2.1)\n",
      "Requirement already satisfied: beautifulsoup4 in c:\\users\\erety\\anaconda3\\lib\\site-packages (from snscrape) (4.12.3)\n",
      "Requirement already satisfied: filelock in c:\\users\\erety\\anaconda3\\lib\\site-packages (from snscrape) (3.13.1)\n",
      "Requirement already satisfied: soupsieve>1.2 in c:\\users\\erety\\anaconda3\\lib\\site-packages (from beautifulsoup4->snscrape) (2.5)\n",
      "Requirement already satisfied: charset-normalizer<4,>=2 in c:\\users\\erety\\anaconda3\\lib\\site-packages (from requests[socks]->snscrape) (3.3.2)\n",
      "Requirement already satisfied: idna<4,>=2.5 in c:\\users\\erety\\anaconda3\\lib\\site-packages (from requests[socks]->snscrape) (3.7)\n",
      "Requirement already satisfied: urllib3<3,>=1.21.1 in c:\\users\\erety\\anaconda3\\lib\\site-packages (from requests[socks]->snscrape) (2.2.3)\n",
      "Requirement already satisfied: certifi>=2017.4.17 in c:\\users\\erety\\anaconda3\\lib\\site-packages (from requests[socks]->snscrape) (2025.1.31)\n",
      "Requirement already satisfied: PySocks!=1.5.7,>=1.5.6 in c:\\users\\erety\\anaconda3\\lib\\site-packages (from requests[socks]->snscrape) (1.7.1)\n",
      "Downloading snscrape-0.7.0.20230622-py3-none-any.whl (74 kB)\n",
      "Installing collected packages: snscrape\n",
      "Successfully installed snscrape-0.7.0.20230622\n",
      "Note: you may need to restart the kernel to use updated packages.\n"
     ]
    }
   ],
   "source": [
    "pip install snscrape"
   ]
  },
  {
   "cell_type": "code",
   "execution_count": 3,
   "id": "9a48b3e1-3f26-4a0a-89eb-f3e5f84d55ac",
   "metadata": {},
   "outputs": [],
   "source": [
    "pdf_links: (\n",
    "\"https://x.com/RedcarWorker/status/1884438611892002832\",  \n",
    "\"https://x.com/dcyu41/status/1833124532036809109\", \n",
    "\"https://x.com/DrOMD/status/1884391832110666207\",    \n",
    "\"https://x.com/unniecar/status/1799317501131759743\",  \n",
    "\"https://x.com/jayinfrozen/status/1832312685893185879\",  \n",
    "\"https://x.com/saemirae24/status/1819531443108041143\", \n",
    "\"https://x.com/zesize/status/1770371301460656463\") \n"
   ]
  },
  {
   "cell_type": "code",
   "execution_count": 6,
   "id": "ac670a24-b2dd-4ef7-b97b-1fe102620a50",
   "metadata": {},
   "outputs": [
    {
     "name": "stdout",
     "output_type": "stream",
     "text": [
      "크롤링 중: https://x.com/RedcarWorker/status/1884438611892002832\n",
      "→ 내용: '연두색 번호판' 도입 이후, 고급 법인차 수요가 많이...\n",
      "크롤링 중: https://x.com/dcyu41/status/1833124532036809109\n",
      "→ 내용: 법인 차량은 전부 연두색 번호판을 달아야지 무슨 금액으...\n",
      "크롤링 중: https://x.com/DrOMD/status/1884391832110666207\n",
      "→ 내용: 이 뉴스 너무 한국적인 기사다. 1억원 이상 고가 수입...\n",
      "크롤링 중: https://x.com/unniecar/status/1799317501131759743\n",
      "→ 내용: 8천만원 이상 법인차는 번호판이 연두색으로 바뀌었는데,...\n",
      "크롤링 중: https://x.com/jayinfrozen/status/1832312685893185879\n",
      "→ 내용: 연두색 번호판 외제고급차에 개큰편견있음...\n",
      "크롤링 중: https://x.com/saem\n",
      "❌ 실패: https://x.com/saem → Message: no such element: Unable to locate element: {\"method\":\"css selector\",\"selector\":\"article [data-testid=\"tweetText\"]\"}\n",
      "  (Session info: chrome=135.0.7049.43); For documentation on this error, please visit: https://www.selenium.dev/documentation/webdriver/troubleshooting/errors#no-such-element-exception\n",
      "Stacktrace:\n",
      "\tGetHandleVerifier [0x00007FF711321F55+78133]\n",
      "\tGetHandleVerifier [0x00007FF711321FB0+78224]\n",
      "\t(No symbol) [0x00007FF7110E91BA]\n",
      "\t(No symbol) [0x00007FF71113F19D]\n",
      "\t(No symbol) [0x00007FF71113F44C]\n",
      "\t(No symbol) [0x00007FF7111923D7]\n",
      "\t(No symbol) [0x00007FF71116719F]\n",
      "\t(No symbol) [0x00007FF71118F21F]\n",
      "\t(No symbol) [0x00007FF711166F33]\n",
      "\t(No symbol) [0x00007FF711130358]\n",
      "\t(No symbol) [0x00007FF7111310C3]\n",
      "\tGetHandleVerifier [0x00007FF7115EBA8D+3001453]\n",
      "\tGetHandleVerifier [0x00007FF7115E5E72+2977874]\n",
      "\tGetHandleVerifier [0x00007FF71160497D+3103581]\n",
      "\tGetHandleVerifier [0x00007FF71133C7EA+186826]\n",
      "\tGetHandleVerifier [0x00007FF7113443FF+218591]\n",
      "\tGetHandleVerifier [0x00007FF711329D94+110452]\n",
      "\tGetHandleVerifier [0x00007FF711329F42+110882]\n",
      "\tGetHandleVerifier [0x00007FF711310379+5465]\n",
      "\tBaseThreadInitThunk [0x00007FFF614CE8D7+23]\n",
      "\tRtlUserThreadStart [0x00007FFF624F14FC+44]\n",
      "\n",
      "\n",
      "✅ 크롤링 완료. 결과 저장: tweet_contents.csv\n"
     ]
    }
   ],
   "source": [
    "from selenium import webdriver\n",
    "from selenium.webdriver.chrome.service import Service\n",
    "from selenium.webdriver.chrome.options import Options\n",
    "from selenium.webdriver.common.by import By\n",
    "from webdriver_manager.chrome import ChromeDriverManager\n",
    "import time\n",
    "import csv\n",
    "\n",
    "# 크롬 드라이버 옵션 설정\n",
    "options = Options()\n",
    "# options.add_argument(\"--headless=new\")  # 브라우저 없이 실행할 경우 활성화\n",
    "options.add_argument(\"--disable-gpu\")\n",
    "options.add_argument(\"--no-sandbox\")\n",
    "options.add_argument(\"--window-size=1920,1080\")\n",
    "options.add_argument('--lang=ko-KR')\n",
    "\n",
    "# 드라이버 실행\n",
    "service = Service(executable_path=r\"C:\\chromedriver-win64\\chromedriver-win64\\chromedriver.exe\")\n",
    "driver = webdriver.Chrome(service=service, options=options)  # ✅ 추가 필요\n",
    "\n",
    "# 타겟 트윗 링크들\n",
    "pdf_links = [\n",
    "    \"https://x.com/RedcarWorker/status/1884438611892002832\",  \n",
    "    \"https://x.com/dcyu41/status/1833124532036809109\", \n",
    "    \"https://x.com/DrOMD/status/1884391832110666207\",    \n",
    "    \"https://x.com/unniecar/status/1799317501131759743\",  \n",
    "    \"https://x.com/jayinfrozen/status/1832312685893185879\",  \n",
    "    \"https://x.com/saem\"\n",
    "]\n",
    "\n",
    "results = []  # ✅ 결과 저장 리스트 선언\n",
    "\n",
    "for url in pdf_links:\n",
    "    print(f\"크롤링 중: {url}\")\n",
    "    try:\n",
    "        driver.get(url)\n",
    "        time.sleep(5)  # 로딩 대기\n",
    "\n",
    "        # 트윗 본문 찾기 (X.com 구조 변경에 따라 CSS 선택자 업데이트됨)\n",
    "        tweet = driver.find_element(By.CSS_SELECTOR, 'article [data-testid=\"tweetText\"]')\n",
    "        text = tweet.text.strip()\n",
    "        print(f\"→ 내용: {text[:30]}...\")  # 앞부분만 출력\n",
    "        results.append({\"url\": url, \"text\": text})\n",
    "    except Exception as e:\n",
    "        print(f\"❌ 실패: {url} → {e}\")\n",
    "        results.append({\"url\": url, \"text\": \"크롤링 실패\"})\n",
    "\n",
    "# 드라이버 종료\n",
    "driver.quit()\n",
    "\n",
    "# 결과를 CSV로 저장\n",
    "output_path = \"tweet_contents.csv\"\n",
    "with open(output_path, \"w\", encoding=\"utf-8-sig\", newline=\"\") as f:\n",
    "    writer = csv.DictWriter(f, fieldnames=[\"url\", \"text\"])\n",
    "    writer.writeheader()\n",
    "    writer.writerows(results)\n",
    "\n",
    "print(f\"\\n✅ 크롤링 완료. 결과 저장: {output_path}\")\n"
   ]
  },
  {
   "cell_type": "code",
   "execution_count": 7,
   "id": "af8e0766-0a14-4273-b06a-df229bcad0a2",
   "metadata": {},
   "outputs": [],
   "source": [
    "from selenium import webdriver\n",
    "from selenium.webdriver.chrome.service import Service\n",
    "from selenium.webdriver.chrome.options import Options\n",
    "from selenium.webdriver.common.by import By\n",
    "import time, csv\n",
    "\n",
    "options = Options()\n",
    "# options.add_argument(\"--headless=new\")  # 테스트 중엔 주석!\n",
    "options.add_argument(\"--disable-gpu\")\n",
    "options.add_argument(\"--no-sandbox\")\n",
    "options.add_argument(\"--window-size=1920,1080\")\n",
    "options.add_argument('--lang=ko-KR')\n",
    "\n",
    "# ✅ 경로를 직접 명시\n",
    "service = Service(r\"C:\\chromedriver-win64\\chromedriver-win64\\chromedriver.exe\")  # 또는 본인의 경로로\n",
    "\n",
    "driver = webdriver.Chrome(service=service, options=options)\n"
   ]
  },
  {
   "cell_type": "code",
   "execution_count": 13,
   "id": "c350b680-ad10-4c83-8f6c-3d493ef53a64",
   "metadata": {},
   "outputs": [
    {
     "ename": "TypeError",
     "evalue": "ChromeDriverManager.__init__() got an unexpected keyword argument 'version'",
     "output_type": "error",
     "traceback": [
      "\u001b[0;31m---------------------------------------------------------------------------\u001b[0m",
      "\u001b[0;31mTypeError\u001b[0m                                 Traceback (most recent call last)",
      "Cell \u001b[0;32mIn[13], line 4\u001b[0m\n\u001b[1;32m      1\u001b[0m \u001b[38;5;28;01mfrom\u001b[39;00m \u001b[38;5;21;01mwebdriver_manager\u001b[39;00m\u001b[38;5;21;01m.\u001b[39;00m\u001b[38;5;21;01mchrome\u001b[39;00m \u001b[38;5;28;01mimport\u001b[39;00m ChromeDriverManager\n\u001b[1;32m      3\u001b[0m driver \u001b[38;5;241m=\u001b[39m webdriver\u001b[38;5;241m.\u001b[39mChrome(\n\u001b[0;32m----> 4\u001b[0m     service\u001b[38;5;241m=\u001b[39mService(ChromeDriverManager(version\u001b[38;5;241m=\u001b[39m\u001b[38;5;124m\"\u001b[39m\u001b[38;5;124m124.0.6367.60\u001b[39m\u001b[38;5;124m\"\u001b[39m)\u001b[38;5;241m.\u001b[39minstall()),  \u001b[38;5;66;03m# 버전은 브라우저와 맞춰서!\u001b[39;00m\n\u001b[1;32m      5\u001b[0m     options\u001b[38;5;241m=\u001b[39moptions\n\u001b[1;32m      6\u001b[0m )\n",
      "\u001b[0;31mTypeError\u001b[0m: ChromeDriverManager.__init__() got an unexpected keyword argument 'version'"
     ]
    }
   ],
   "source": [
    "from webdriver_manager.chrome import ChromeDriverManager\n",
    "\n",
    "driver = webdriver.Chrome(\n",
    "    service=Service(ChromeDriverManager(version=\"124.0.6367.60\").install()),  # 버전은 브라우저와 맞춰서!\n",
    "    options=options\n",
    ")\n"
   ]
  },
  {
   "cell_type": "code",
   "execution_count": 8,
   "id": "8feccb93-9878-40f4-b85a-aa1675a5ecc3",
   "metadata": {},
   "outputs": [
    {
     "name": "stdout",
     "output_type": "stream",
     "text": [
      "\n",
      "🔎 크롤링 중: https://x.com/RedcarWorker/status/1884438611892002832\n",
      "→ 내용: '연두색 번호판' 도입 이후, 고급 법인차 수요가 많이...\n",
      "\n",
      "🔎 크롤링 중: https://x.com/dcyu41/status/1833124532036809109\n",
      "→ 내용: 법인 차량은 전부 연두색 번호판을 달아야지 무슨 금액으...\n",
      "\n",
      "🔎 크롤링 중: https://x.com/DrOMD/status/1884391832110666207\n",
      "→ 내용: 이 뉴스 너무 한국적인 기사다. 1억원 이상 고가 수입...\n",
      "\n",
      "🔎 크롤링 중: https://x.com/unniecar/status/1799317501131759743\n",
      "→ 내용: 8천만원 이상 법인차는 번호판이 연두색으로 바뀌었는데,...\n",
      "\n",
      "🔎 크롤링 중: https://x.com/jayinfrozen/status/1832312685893185879\n",
      "→ 내용: 연두색 번호판 외제고급차에 개큰편견있음...\n",
      "\n",
      "🔎 크롤링 중: https://x.com/saemirae24/status/1819531443108041143\n",
      "→ 내용: 이거 아이디어 좋은데요?\n",
      "연두색 법인 번호판 자동차처럼...\n",
      "\n",
      "🔎 크롤링 중: https://x.com/zesize/status/1770371301460656463\n",
      "→ 내용: 연두색 번호판 단 s650 봤는데 나름 또 힙함 ㅋㅋㅋ...\n",
      "\n",
      "✅ 크롤링 완료. 결과 저장: tweet_contents.csv\n"
     ]
    }
   ],
   "source": [
    "from selenium import webdriver\n",
    "from selenium.webdriver.chrome.service import Service\n",
    "from selenium.webdriver.chrome.options import Options\n",
    "from selenium.webdriver.common.by import By\n",
    "import time\n",
    "import csv\n",
    "import os\n",
    "\n",
    "# ✅ 크롬드라이버 경로 설정 (자동설치된 경로 사용)\n",
    "chrome_path = r\"C:\\chromedriver-win64\\chromedriver-win64\\chromedriver.exe\"\n",
    "if not os.path.exists(chrome_path):\n",
    "    raise FileNotFoundError(\"❌ chromedriver 경로가 올바르지 않거나 존재하지 않습니다.\")\n",
    "\n",
    "# ✅ 드라이버 옵션 설정\n",
    "options = Options()\n",
    "# options.add_argument(\"--headless=new\")  # 테스트용이면 주석처리\n",
    "options.add_argument(\"--disable-gpu\")\n",
    "options.add_argument(\"--no-sandbox\")\n",
    "options.add_argument(\"--window-size=1920,1080\")\n",
    "options.add_argument('--lang=ko-KR')\n",
    "\n",
    "# ✅ 드라이버 실행\n",
    "driver = webdriver.Chrome(service=Service(chrome_path), options=options)\n",
    "\n",
    "# ✅ 트위터 링크 리스트\n",
    "pdf_links = [\n",
    "    \"https://x.com/RedcarWorker/status/1884438611892002832\",  \n",
    "    \"https://x.com/dcyu41/status/1833124532036809109\", \n",
    "    \"https://x.com/DrOMD/status/1884391832110666207\",    \n",
    "    \"https://x.com/unniecar/status/1799317501131759743\",  \n",
    "    \"https://x.com/jayinfrozen/status/1832312685893185879\",  \n",
    "    \"https://x.com/saemirae24/status/1819531443108041143\", \n",
    "    \"https://x.com/zesize/status/1770371301460656463\"\n",
    "]\n",
    "\n",
    "results = []\n",
    "\n",
    "for url in pdf_links:\n",
    "    print(f\"\\n🔎 크롤링 중: {url}\")\n",
    "    try:\n",
    "        driver.get(url)\n",
    "        time.sleep(5)\n",
    "\n",
    "        # ✅ 트윗 본문 찾기\n",
    "        tweet = driver.find_element(By.CSS_SELECTOR, 'article [data-testid=\"tweetText\"]')\n",
    "        text = tweet.text.strip()\n",
    "        print(f\"→ 내용: {text[:30]}...\")\n",
    "        results.append({\"url\": url, \"text\": text})\n",
    "    except Exception as e:\n",
    "        print(f\"❌ 실패: {url} → {e}\")\n",
    "        results.append({\"url\": url, \"text\": \"크롤링 실패\"})\n",
    "\n",
    "driver.quit()\n",
    "\n",
    "# ✅ 결과를 CSV로 저장\n",
    "output_path = \"tweet_contents.csv\"\n",
    "with open(output_path, \"w\", encoding=\"utf-8-sig\", newline=\"\") as f:\n",
    "    writer = csv.DictWriter(f, fieldnames=[\"url\", \"text\"])\n",
    "    writer.writeheader()\n",
    "    writer.writerows(results)\n",
    "\n",
    "print(f\"\\n✅ 크롤링 완료. 결과 저장: {output_path}\")\n"
   ]
  },
  {
   "cell_type": "code",
   "execution_count": 15,
   "id": "dedddc2f-ad67-420b-ace1-6372ff5eb12f",
   "metadata": {},
   "outputs": [
    {
     "name": "stdout",
     "output_type": "stream",
     "text": [
      "/Users/jangjinseul/Desktop/main project/SKN13-1st-5TEAM/SKN13_장진슬/스트림릿\n",
      "['twitter_twt_2.py', 'tweet_contents.csv', 'import sys.py', 'import sys 복사본 3.py', '.DS_Store', 'Untitled.ipynb', '유투브 댓글.py', 'comments.csv', 'twitter_twt.py', '.ipynb_checkpoints', '트위터 크롤링.ipynb', 'tweet_contents 복사본.csv', 'twitter_twt.pdf']\n"
     ]
    }
   ],
   "source": [
    "import os\n",
    "print(os.getcwd())\n",
    "print(os.listdir())\n"
   ]
  },
  {
   "cell_type": "code",
   "execution_count": null,
   "id": "b0165a02-a3f8-4997-99e6-a8c054d02d59",
   "metadata": {},
   "outputs": [],
   "source": []
  }
 ],
 "metadata": {
  "kernelspec": {
   "display_name": "Python 3 (ipykernel)",
   "language": "python",
   "name": "python3"
  },
  "language_info": {
   "codemirror_mode": {
    "name": "ipython",
    "version": 3
   },
   "file_extension": ".py",
   "mimetype": "text/x-python",
   "name": "python",
   "nbconvert_exporter": "python",
   "pygments_lexer": "ipython3",
   "version": "3.12.7"
  }
 },
 "nbformat": 4,
 "nbformat_minor": 5
}
