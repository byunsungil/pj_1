{
 "cells": [
  {
   "cell_type": "code",
   "execution_count": null,
   "id": "276c8f19-f8af-4185-b303-e79544815436",
   "metadata": {},
   "outputs": [],
   "source": [
    "# 차량등록현황 csv 파일 mysql 데이터베이스 저장\n"
   ]
  },
  {
   "cell_type": "code",
   "execution_count": 1,
   "id": "f9236a6b-21c8-4a75-8360-946edcc83920",
   "metadata": {},
   "outputs": [
    {
     "name": "stdout",
     "output_type": "stream",
     "text": [
      "Requirement already satisfied: pandas in c:\\users\\erety\\anaconda3\\lib\\site-packages (2.2.3)\n",
      "Requirement already satisfied: sqlalchemy in c:\\users\\erety\\anaconda3\\lib\\site-packages (2.0.34)\n",
      "Requirement already satisfied: pymysql in c:\\users\\erety\\anaconda3\\lib\\site-packages (1.1.1)\n",
      "Requirement already satisfied: numpy>=1.26.0 in c:\\users\\erety\\anaconda3\\lib\\site-packages (from pandas) (1.26.4)\n",
      "Requirement already satisfied: python-dateutil>=2.8.2 in c:\\users\\erety\\anaconda3\\lib\\site-packages (from pandas) (2.9.0.post0)\n",
      "Requirement already satisfied: pytz>=2020.1 in c:\\users\\erety\\anaconda3\\lib\\site-packages (from pandas) (2024.1)\n",
      "Requirement already satisfied: tzdata>=2022.7 in c:\\users\\erety\\anaconda3\\lib\\site-packages (from pandas) (2023.3)\n",
      "Requirement already satisfied: typing-extensions>=4.6.0 in c:\\users\\erety\\anaconda3\\lib\\site-packages (from sqlalchemy) (4.11.0)\n",
      "Requirement already satisfied: greenlet!=0.4.17 in c:\\users\\erety\\anaconda3\\lib\\site-packages (from sqlalchemy) (3.0.1)\n",
      "Requirement already satisfied: six>=1.5 in c:\\users\\erety\\anaconda3\\lib\\site-packages (from python-dateutil>=2.8.2->pandas) (1.16.0)\n",
      "Note: you may need to restart the kernel to use updated packages.\n"
     ]
    }
   ],
   "source": [
    "%pip install pandas sqlalchemy pymysql"
   ]
  },
  {
   "cell_type": "code",
   "execution_count": 4,
   "id": "9066beec-93a9-41a1-83ba-a491563c0365",
   "metadata": {},
   "outputs": [
    {
     "data": {
      "text/plain": [
       "13"
      ]
     },
     "execution_count": 4,
     "metadata": {},
     "output_type": "execute_result"
    }
   ],
   "source": [
    "import pandas as pd\n",
    "from sqlalchemy import create_engine\n",
    "\n",
    "# CSV 파일 불러오기\n",
    "df = pd.read_csv(\"car_reg.csv\")  # 파일명에 맞게 수정\n",
    "\n",
    "# MySQL 접속 정보\n",
    "db_user = \"runnnn\"\n",
    "db_password = \"1111\"\n",
    "db_host = \"localhost\"\n",
    "db_port = \"3306\"\n",
    "db_name = \"car_reg\"\n",
    "table_name = \"car_reg\"\n",
    "\n",
    "# SQLAlchemy 엔진 생성\n",
    "engine = create_engine(f\"mysql+pymysql://{db_user}:{db_password}@{db_host}:{db_port}/{db_name}\")\n",
    "\n",
    "# 데이터 저장 (기존 테이블에 추가: append / 없으면 생성)\n",
    "df.to_sql(name=table_name, con=engine, if_exists=\"replace\", index=False)\n"
   ]
  },
  {
   "cell_type": "code",
   "execution_count": null,
   "id": "0d29f5b5-6567-40ca-a43e-2326ff8720eb",
   "metadata": {},
   "outputs": [],
   "source": []
  }
 ],
 "metadata": {
  "kernelspec": {
   "display_name": "Python 3 (ipykernel)",
   "language": "python",
   "name": "python3"
  },
  "language_info": {
   "codemirror_mode": {
    "name": "ipython",
    "version": 3
   },
   "file_extension": ".py",
   "mimetype": "text/x-python",
   "name": "python",
   "nbconvert_exporter": "python",
   "pygments_lexer": "ipython3",
   "version": "3.12.7"
  }
 },
 "nbformat": 4,
 "nbformat_minor": 5
}
