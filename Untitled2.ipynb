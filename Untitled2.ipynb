{
 "cells": [
  {
   "cell_type": "code",
   "execution_count": 10,
   "id": "9fb7ad83-a27a-48e8-a73f-f263612f0552",
   "metadata": {},
   "outputs": [],
   "source": [
    "import pandas as pd\n",
    "import pymysql\n",
    "\n",
    "# CSV 파일 읽기\n",
    "csv_path = r\"C:\\Users\\erety\\sk_13_5_1st_sungil\\1st_pj_g5\\새 폴더\\car_sales_2023_01_to_2025_03.csv\"\n",
    "df = pd.read_csv(csv_path)\n",
    "\n",
    "# MySQL 연결\n",
    "conn = pymysql.connect(\n",
    "    host='localhost',\n",
    "    user='runnnn',\n",
    "    password='1111',\n",
    "    database='car_sales',\n",
    "    charset='utf8mb4'\n",
    ")\n",
    "cursor = conn.cursor()\n",
    "\n",
    "# 테이블명 지정\n",
    "table_name = \"carsales\"\n",
    "\n",
    "# 컬럼명 및 타입 설정\n",
    "columns = df.columns\n",
    "types = [\"VARCHAR(255)\" for _ in columns]  # 모든 컬럼을 문자열로 저장\n",
    "column_defs = ', '.join([f\"`{col}` {typ}\" for col, typ in zip(columns, types)])  # ← 백틱 추가\n",
    "\n",
    "# 테이블 생성 SQL\n",
    "create_table_sql = f\"\"\"\n",
    "CREATE TABLE IF NOT EXISTS `{table_name}` (\n",
    "    {column_defs}\n",
    ")\n",
    "\"\"\"\n",
    "cursor.execute(create_table_sql)\n",
    "\n",
    "# 데이터 삽입\n",
    "for _, row in df.iterrows():\n",
    "    placeholders = ', '.join(['%s'] * len(row))\n",
    "    col_names = ', '.join([f\"`{col}`\" for col in columns])  # ← 삽입 시에도 컬럼명 백틱\n",
    "    insert_sql = f\"INSERT INTO `{table_name}` ({col_names}) VALUES ({placeholders})\"\n",
    "    cursor.execute(insert_sql, tuple(row))\n",
    "\n",
    "# 커밋 및 종료\n",
    "conn.commit()\n",
    "cursor.close()\n",
    "conn.close()\n"
   ]
  }
 ],
 "metadata": {
  "kernelspec": {
   "display_name": "Python 3 (ipykernel)",
   "language": "python",
   "name": "python3"
  },
  "language_info": {
   "codemirror_mode": {
    "name": "ipython",
    "version": 3
   },
   "file_extension": ".py",
   "mimetype": "text/x-python",
   "name": "python",
   "nbconvert_exporter": "python",
   "pygments_lexer": "ipython3",
   "version": "3.12.7"
  }
 },
 "nbformat": 4,
 "nbformat_minor": 5
}
